{
 "cells": [
  {
   "cell_type": "markdown",
   "id": "642b4109-1f53-430a-ab64-7662d1bddd30",
   "metadata": {},
   "source": [
    "# Statistic"
   ]
  },
  {
   "cell_type": "markdown",
   "id": "f09beb25-39c3-46d9-a023-939cd4dba53d",
   "metadata": {
    "jp-MarkdownHeadingCollapsed": true
   },
   "source": [
    "## Central Tendencies"
   ]
  },
  {
   "cell_type": "markdown",
   "id": "0a1706dc-a039-4f8f-9e09-460e1defd648",
   "metadata": {},
   "source": [
    "- __Mean:__ If you have two data points, the mean is simply the point halfway between them\n",
    "- __Median:__ middle-most value (if \n",
    "the number of data points is odd) or the average of the two middle-most values (if th \r\n",
    "number of data points is eve\n",
    "- __Moda:__  most-common value\n",
    "- __Quantile:__ represents the value less than \n",
    "which a certain percentile of the data liesn)"
   ]
  },
  {
   "cell_type": "code",
   "execution_count": null,
   "id": "fc8a906c-e92c-4099-83b2-8416327a6b2c",
   "metadata": {},
   "outputs": [],
   "source": [
    "#Mean\n",
    "def mean(x):\n",
    "    return sum(x) / len(x)\n",
    "\n",
    "#Median\n",
    "def median(v):\n",
    "    \"\"\"finds the 'middle-most' value of v\"\"\"\n",
    "    n = len(v)\n",
    "    sorted_v = sorted(v)\n",
    "    midpoint = n // 2\n",
    "    if n % 2 == 1:\n",
    "        # if odd, return the middle value\n",
    "        return sorted_v[midpoint]\n",
    "    else:\n",
    "        # if even, return the average of the middle values\n",
    "        lo = midpoint - 1\n",
    "        hi = midpoint\n",
    "        return (sorted_v[lo] + sorted_v[hi]) / 2\n",
    "\n",
    "#Moda\n",
    "def mode(x):\n",
    "    \"\"\"returns a list, might be more than one mode\"\"\"\n",
    "    counts = Counter(x)\n",
    "    max_count = max(counts.values())\n",
    "    return [x_i for x_i, count in counts.iteritems()\n",
    "    if count == max_count]\n",
    "    \n",
    "#Quantile\n",
    "def quantile(x, p):\n",
    "    \"\"\"returns the pth-percentile value in x\"\"\"\n",
    "    p_index = int(p * len(x))\n",
    "    return sorted(x)[p_index]\n"
   ]
  },
  {
   "cell_type": "markdown",
   "id": "eff25ccd-13cf-484a-9566-c6fee3566ed7",
   "metadata": {},
   "source": [
    "## Dispersion"
   ]
  },
  {
   "cell_type": "markdown",
   "id": "aa83392c-2340-41fb-8390-67df4f1f7a8f",
   "metadata": {},
   "source": [
    "- __Dispersion:__ refers to measures of how spread out our data is.\n",
    "- __Varianza:__ somma del quadrato delle deviazioni (distanza dalla media) sul numero totale -1. measures how a single variable deviates from its mean.\n",
    "- __Deviazione Standard:__ radice della varianza"
   ]
  },
  {
   "cell_type": "code",
   "execution_count": null,
   "id": "f7a10ac4-a832-42bf-ac53-01009c983a89",
   "metadata": {},
   "outputs": [],
   "source": [
    "#Data Range\n",
    "def data_range(x):\n",
    "    return max(x) - min(x)\n",
    "\n",
    "#Deviazione\n",
    "def de_mean(x):\n",
    "    \"\"\"translate x by subtracting its mean (so the result has mean 0)\"\"\"\n",
    "    x_bar = mean(x)\n",
    "    return [x_i - x_bar for x_i in x]\n",
    "\n",
    "#Varianza\n",
    "def variance(x):\n",
    "    \"\"\"assumes x has at least two elements\"\"\"\n",
    "    n = len(x)\n",
    "    deviations = de_mean(x)\n",
    "    return sum_of_squares(deviations) / (n - 1)\n",
    "\n",
    "#Dev standard\n",
    "def standard_deviation(x):\n",
    "    return math.sqrt(variance(x))"
   ]
  },
  {
   "cell_type": "markdown",
   "id": "7cbe1f5b-205a-4cf9-944b-8d33ca6a79e4",
   "metadata": {},
   "source": [
    "## Correlation"
   ]
  },
  {
   "cell_type": "markdown",
   "id": "60679763-a30e-4b53-96d1-7251a84b2df1",
   "metadata": {},
   "source": [
    "- __Ccovarianc:__  measures how tw \r\n",
    "variables vary in tandem from their mea\n",
    "- __Correlation:__ divides out the \n",
    "standard deviations of both variablesns"
   ]
  },
  {
   "cell_type": "code",
   "execution_count": null,
   "id": "9cc9fe4c-5eae-4efb-bedf-054ab0efefc1",
   "metadata": {},
   "outputs": [],
   "source": []
  },
  {
   "cell_type": "code",
   "execution_count": null,
   "id": "40b065a6-85de-485e-9fb2-1591dd024dd7",
   "metadata": {},
   "outputs": [],
   "source": [
    "def covariance(x, y):\n",
    "    n = len(x)\n",
    "    return dot(de_mean(x), de_mean(y)) / (n - 1)\n",
    "\n",
    "def correlation(x, y):\n",
    "    stdev_x = standard_deviation(x)\n",
    "    stdev_y = standard_deviation(y)\n",
    "    if stdev_x > 0 and stdev_y > 0:\n",
    "        return covariance(x, y) / stdev_x / stdev_y\n",
    "    else:\n",
    "        return 0"
   ]
  }
 ],
 "metadata": {
  "kernelspec": {
   "display_name": "Python 3 (ipykernel)",
   "language": "python",
   "name": "python3"
  },
  "language_info": {
   "codemirror_mode": {
    "name": "ipython",
    "version": 3
   },
   "file_extension": ".py",
   "mimetype": "text/x-python",
   "name": "python",
   "nbconvert_exporter": "python",
   "pygments_lexer": "ipython3",
   "version": "3.11.5"
  }
 },
 "nbformat": 4,
 "nbformat_minor": 5
}
