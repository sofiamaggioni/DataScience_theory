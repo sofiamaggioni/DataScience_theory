{
 "cells": [
  {
   "cell_type": "markdown",
   "id": "a7cad828-e4ca-4509-8c7a-deb52a6f4343",
   "metadata": {},
   "source": [
    "# Hypotesis and Inference"
   ]
  },
  {
   "cell_type": "markdown",
   "id": "d6b57d15-da22-43a4-9cb0-0e271ca010a0",
   "metadata": {
    "jp-MarkdownHeadingCollapsed": true
   },
   "source": [
    "## Statistical Hypothesis Testing"
   ]
  },
  {
   "cell_type": "markdown",
   "id": "37fa4de5-361b-45e5-90c2-7534121dabaa",
   "metadata": {},
   "source": [
    "Imagine we have a coin and we want to test whether it’s fair. We’ll make the assumption that the coin has some probability $p$ of landing heads, and so our null hypothesis is that the coin is fair $p = 0 . 5$. We’ll test this against the alternative \n",
    "hypothesis p ≠ 0 . 5\n",
    "\n",
    "HP: $p = 0 . 5$\n",
    "\n",
    "In particular, our test will involve flipping the coin some number n times and count\n",
    "ing the number of heads X. Each coin flip is a Bernoulli trial, which means that X is  \r\n",
    "Binomial(n,p) random variable, whi6) we can approxima e\r\n",
    "using the normal distribution:."
   ]
  },
  {
   "cell_type": "code",
   "execution_count": 2,
   "id": "f841bce6-5f3f-405b-bb0d-78c7609af75f",
   "metadata": {},
   "outputs": [],
   "source": [
    "import math \n",
    "\n",
    "def normal_approximation_to_binomial(n, p):\n",
    "    \"\"\"finds mu and sigma corresponding to a Binomial(n, p)\"\"\"\n",
    "    mu = p * n\n",
    "    sigma = math.sqrt(p * (1 - p) * n)\n",
    "    return mu, sigma\n"
   ]
  },
  {
   "cell_type": "markdown",
   "id": "28692e6b-1a1a-4ee5-ace9-e4096830171a",
   "metadata": {},
   "source": [
    "In particular, let’s say that we choose to flip the coin n = 1000 times. If our hypothesis of fairness is true, X should be distributed approximately normally with mean 50 and\n",
    "standard deviation 15.8:"
   ]
  },
  {
   "cell_type": "code",
   "execution_count": 4,
   "id": "dd23760e-f517-497f-8090-cd8db427c365",
   "metadata": {},
   "outputs": [
    {
     "name": "stdout",
     "output_type": "stream",
     "text": [
      "500.0 15.811388300841896\n"
     ]
    }
   ],
   "source": [
    "mu_0, sigma_0 = normal_approximation_to_binomial(1000, 0.5)\n",
    "print(mu_0, sigma_0)"
   ]
  },
  {
   "cell_type": "markdown",
   "id": "749e54d5-fc44-4742-83cd-92cfa840f62d",
   "metadata": {},
   "source": [
    "We need to make a decision about __significance__: how willing we are to make a type 1\n",
    "error (“false positive”), in which we reject H0\n",
    "even though it’s true. For reasons lost to\n",
    "the annals of history, this willingness is often set at 5% or 1%. Let’s choose 5%"
   ]
  },
  {
   "cell_type": "code",
   "execution_count": 22,
   "id": "335c26c3-3a0d-46f6-9524-3243c6c861bb",
   "metadata": {},
   "outputs": [
    {
     "name": "stdout",
     "output_type": "stream",
     "text": [
      "lower_bound, upper_bound= 469.01026640487555 530.9897335951244\n"
     ]
    }
   ],
   "source": [
    "def normal_cdf(x, mu=0,sigma=1):\n",
    "    return (1 + math.erf((x - mu) / math.sqrt(2) / sigma)) / 2 \n",
    "    \n",
    "def inverse_normal_cdf(p, mu=0, sigma=1, tolerance=0.00001):\n",
    "    \"\"\"find approximate inverse using binary search\"\"\"\n",
    "    if mu != 0 or sigma != 1:\n",
    "        return mu + sigma * inverse_normal_cdf(p, tolerance=tolerance)\n",
    "    else:\n",
    "        low_z, low_p = -10.0, 0 # normal_cdf(-10) is (very close to) 0\n",
    "        hi_z, hi_p = 10.0, 1 # normal_cdf(10) is (very close to) 1\n",
    "        while hi_z - low_z > tolerance:\n",
    "            mid_z = (low_z + hi_z) / 2 # consider the midpoint\n",
    "            mid_p = normal_cdf(mid_z) # and the cdf's value there\n",
    "            if mid_p < p:\n",
    "                # midpoint is still too low, search above it\n",
    "                low_z, low_p = mid_z, mid_p\n",
    "            elif mid_p > p:\n",
    "                # midpoint is still too high, search below it\n",
    "                hi_z, hi_p = mid_z, mid_p\n",
    "            else:\n",
    "                break\n",
    "    return mid_z\n",
    "\n",
    "def normal_upper_bound(probability, mu=0, sigma=1):\n",
    "    \"\"\"returns the z for which P(Z <= z) = probability\"\"\"\n",
    "    return inverse_normal_cdf(probability, mu, sigma)\n",
    "def normal_lower_bound(probability, mu=0, sigma=1):\n",
    "    \"\"\"returns the z for which P(Z >= z) = probability\"\"\"\n",
    "    return inverse_normal_cdf(1 - probability, mu, sigma)\n",
    "    \n",
    "def normal_two_sided_bounds(probability, mu=0, sigma=1):\n",
    "    \"\"\"returns the symmetric (about the mean) bounds\n",
    "    that contain the specified probability\"\"\"\n",
    "    tail_probability = (1 - probability) / 2\n",
    "     # upper bound should have tail_probability above it\n",
    "    upper_bound = normal_lower_bound(tail_probability, mu, sigma)\n",
    "    # lower bound should have tail_probability below it\n",
    "    lower_bound = normal_upper_bound(tail_probability, mu, sigma)\n",
    "    return lower_bound, upper_bound\n",
    "\n",
    "lower_bound, upper_bound=normal_two_sided_bounds(0.95, mu_0, sigma_0) \n",
    "print('lower_bound, upper_bound=', lower_bound, upper_bound)"
   ]
  },
  {
   "cell_type": "markdown",
   "id": "b1e51e55-b0e7-4670-9a8c-9ba33e4b82c9",
   "metadata": {},
   "source": [
    "We are also often interested in the __power__ of a test, which is the probability of not\n",
    "making a type 2 error, in which we fail to reject H0\n",
    " even though it’s false. In order to\n",
    "measure this, we have to specify what exactly H0\n",
    "being false means. (Knowing merely\n",
    "that p is not 0.5 doesn’t give you a ton of information about the distribution of X.) In\n",
    "particular, let’s check what happens if p is really 0.55, so that the coin is slightly biased\n",
    "toward heads."
   ]
  },
  {
   "cell_type": "code",
   "execution_count": 24,
   "id": "a64d2b7c-88ea-43a3-977c-19d26c3b23aa",
   "metadata": {},
   "outputs": [
    {
     "name": "stdout",
     "output_type": "stream",
     "text": [
      "power= 0.8865480012953671\n"
     ]
    }
   ],
   "source": [
    "# actual mu and sigma based on p = 0.55\n",
    "mu_1, sigma_1 = normal_approximation_to_binomial(1000, 0.55)\n",
    "# a type 2 error means we fail to reject the null hypothesis\n",
    "# which will happen when X is still in our original interval\n",
    "type_2_probability = normal_cdf(upper_bound, mu_1, sigma_1) - normal_cdf(lower_bound, mu_1, sigma_1)\n",
    "power = 1 - type_2_probability \n",
    "print('power=', power)"
   ]
  },
  {
   "cell_type": "markdown",
   "id": "cff16d52-2b57-49fa-a96b-06adda4b611b",
   "metadata": {
    "jp-MarkdownHeadingCollapsed": true
   },
   "source": [
    "## Confidence Intervals"
   ]
  },
  {
   "cell_type": "markdown",
   "id": "a1397316-423d-4530-82ab-ec77b42d48c5",
   "metadata": {},
   "source": [
    "we can estimate the probability of the unfair coin by looking at the aver‐\n",
    "age value of the Bernoulli variables corresponding to each flip—1 if heads, 0 if tails. If\n",
    "we observe 525 heads out of 1,000 flips, then we estimate $p = 0.525$\n",
    "\n",
    "How confident can we be about this estimate? Well, if we knew the exact value of p,\r\n",
    "the central limit theore) tells us\r\n",
    "that the average of those Bernoulli variables should be approximately normal, with\r\n",
    "mean p and standard deviation:"
   ]
  },
  {
   "cell_type": "code",
   "execution_count": 26,
   "id": "f51c7468-5ef1-4849-b949-aaa2f02b25c9",
   "metadata": {},
   "outputs": [
    {
     "name": "stdout",
     "output_type": "stream",
     "text": [
      "mu= 0.525 sigma= 0.015791611697353755\n"
     ]
    }
   ],
   "source": [
    "p_hat = 525 / 1000\n",
    "mu = p_hat\n",
    "sigma = math.sqrt(p_hat * (1 - p_hat) / 1000)\n",
    "print('mu=', mu, 'sigma=', sigma)"
   ]
  },
  {
   "cell_type": "markdown",
   "id": "9acd5f56-89f9-4394-86b6-0e9ed22e36cc",
   "metadata": {},
   "source": [
    "we are “95% confident” that the following interval\n",
    "contains the true parameter p:\n"
   ]
  },
  {
   "cell_type": "code",
   "execution_count": 28,
   "id": "bd1ce79f-0be8-4f49-aa8d-a4d87e327c5f",
   "metadata": {},
   "outputs": [
    {
     "name": "stdout",
     "output_type": "stream",
     "text": [
      "lower_bound, upper_bound= 0.4940490278129096 0.5559509721870904\n"
     ]
    }
   ],
   "source": [
    "lower_bound, upper_bound=normal_two_sided_bounds(0.95, mu, sigma)\n",
    "print('lower_bound, upper_bound=', lower_bound, upper_bound)\n"
   ]
  },
  {
   "cell_type": "markdown",
   "id": "bb727df9-041c-4503-8119-c70ceecef4cd",
   "metadata": {},
   "source": [
    "0.5 falls within our confidence interval"
   ]
  },
  {
   "cell_type": "code",
   "execution_count": null,
   "id": "52741881-bb60-4a8f-b470-51e46f8a89ea",
   "metadata": {},
   "outputs": [],
   "source": []
  }
 ],
 "metadata": {
  "kernelspec": {
   "display_name": "Python 3 (ipykernel)",
   "language": "python",
   "name": "python3"
  },
  "language_info": {
   "codemirror_mode": {
    "name": "ipython",
    "version": 3
   },
   "file_extension": ".py",
   "mimetype": "text/x-python",
   "name": "python",
   "nbconvert_exporter": "python",
   "pygments_lexer": "ipython3",
   "version": "3.11.5"
  }
 },
 "nbformat": 4,
 "nbformat_minor": 5
}
