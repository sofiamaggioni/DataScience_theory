{
 "cells": [
  {
   "cell_type": "markdown",
   "id": "3a03fb6f-f4cc-449e-92ed-264e67f3dc4c",
   "metadata": {},
   "source": [
    "# Probability"
   ]
  },
  {
   "cell_type": "markdown",
   "id": "79239b65-fe22-4e82-9834-f4f86e4b9dc1",
   "metadata": {
    "jp-MarkdownHeadingCollapsed": true
   },
   "source": [
    "## Dependence and Independence"
   ]
  },
  {
   "cell_type": "markdown",
   "id": "36bd7427-4537-4b56-bc01-6dab95473244",
   "metadata": {},
   "source": [
    "Two events E and F are independent if the probability that\n",
    "they both happen is the product of the probabilities that each one happens:\n",
    "\n",
    "$P (E, F )= P (E) P (F)$"
   ]
  },
  {
   "cell_type": "markdown",
   "id": "ddb04b5b-6a5c-466b-82e0-315bde45dda9",
   "metadata": {},
   "source": [
    "## Conditional Probability"
   ]
  },
  {
   "cell_type": "markdown",
   "id": "e280546a-1495-4847-9090-6a8d408f2d5c",
   "metadata": {},
   "source": [
    "__Probabilità Condizionata:__ \n",
    "\n",
    "$P (E | F) = P (E, F) /P (F)$"
   ]
  },
  {
   "cell_type": "markdown",
   "id": "13a87ad0-9498-48b1-8d24-e887b80bbdbe",
   "metadata": {},
   "source": [
    "__Esempio 1__\n",
    "\n",
    "Vengono lanciati due dati a 6 facce. Calcolare la probabilità che la somma dei risultati sia 6 sapendo che uno dei dadi mostra la faccia con due pallini.\n",
    "\n",
    "$E$= somma dei risultati pari a 6\n",
    "$F$= dado mostra la faccia con 2 pallini\n",
    "\n",
    "- Casi possibili dato F= (2,1), (2,2), (2,3),(2,4),(2,5),(2,6),(1,2),(3,2),(4,2),(5,2),(6,2) = 11 casi\n",
    "- Casi favorevoli = (2,4),(4,2) = 2 casi\n",
    "\n",
    "$P (E | F) = \\frac{2}{11}$\n",
    "\n",
    "__Esempio 2__\n",
    "La probabilità in un campione di popolazione di essere obeso è del 40%. La probabilità di essere diabietico del 10%. La probabilità di essere sia obeso che diabetico è del 6%.\n",
    "\n",
    "Calcolare la probabilità che un individuo scelto a caso:\n",
    "- sia diabetico sapendo che è obeso\n",
    "- sia obeso sapendo che è diabetico\n",
    "\n",
    "$E$= obesi = $\\frac{40}{100}=\\frac{2}{5}$\n",
    "\n",
    "$F$= diabetici = $\\frac{10}{100}=\\frac{1}{10}$\n",
    "\n",
    "$E\\cap F$= obesi e diabetici = $\\frac{6}{100}=\\frac{3}{50}$\n",
    "\n",
    "\n",
    "$P (E | F) = \\frac{P (E \\cap F)}{P (F)} = \\frac{3/50}{1/10}= \\frac{3}{5}=60\\% $\n",
    "\n",
    "\n",
    "$P (F | E) = \\frac{P (E \\cap F)}{P (E)} = \\frac{3/50}{2/5}= \\frac{3}{20}=15\\%$"
   ]
  },
  {
   "cell_type": "markdown",
   "id": "b6cd9181-61ae-41ab-9463-3fd1c309fa43",
   "metadata": {
    "jp-MarkdownHeadingCollapsed": true
   },
   "source": [
    "## Bayes’s Theorem"
   ]
  },
  {
   "cell_type": "markdown",
   "id": "b48bb595-cc27-4078-9b99-df6bdf9acb45",
   "metadata": {},
   "source": [
    "The conditional probability of an event A, given the occurrence of another event B, is equal to the product of the event of B, given A and the probability of A divided by the probability of event B.\n",
    "\n",
    "$P(A|B) = P(B|A)P(A) / P(B)$"
   ]
  },
  {
   "cell_type": "markdown",
   "id": "d316adee-44c5-4f89-a382-313a4a321e40",
   "metadata": {},
   "source": [
    "## Discrete Distributions"
   ]
  },
  {
   "cell_type": "markdown",
   "id": "8f3b0f72-c636-4ced-8f93-432d2833fc51",
   "metadata": {},
   "source": [
    "__Discrete distribution__: one that associates positive probability with discrete outcomes\n",
    "\n",
    "- _Bernoulli_: $P(0)=1-p, P(1)=P$\n",
    "- _Uniforme_: $P(k)=1/n$\n",
    "- _Geometrica_: $P(k)=p(1-p)^{k-1}$\n",
    "- _Binomiale_: $P(k)=\\binom{n}{k}p^k(1-p)^{n-k}$ con $\\binom{n}{k}=\\frac{n!}{k!(n-k)!}$"
   ]
  },
  {
   "cell_type": "code",
   "execution_count": null,
   "id": "67a11dee-c5b6-4108-b93d-96d9eca95717",
   "metadata": {},
   "outputs": [],
   "source": [
    "import math\n",
    "\n",
    "#Bernoulli\n",
    "def prob_bern(x, k):\n",
    "    if x==0:\n",
    "        return 1-k\n",
    "    elif x==1:\n",
    "        return k\n",
    "    else:\n",
    "        return 'x non supportato'\n",
    "\n",
    "#uniforme\n",
    "def prob_unif(n):\n",
    "    return 1/n\n",
    "\n",
    "#geometrica\n",
    "def prob_geom(p,k):\n",
    "    return p*(1-p)**(k-1)\n",
    "\n",
    "#binomiale\n",
    "def prob_binom(n,k):\n",
    "    return math.comb(n,k)*p**k*(1-p)**(n-k)"
   ]
  },
  {
   "cell_type": "markdown",
   "id": "61674049-3d2d-499c-ad4a-56b562444b1b",
   "metadata": {},
   "source": [
    "## Continuous Distributions"
   ]
  },
  {
   "cell_type": "markdown",
   "id": "6874d214-0f91-423c-9e18-397b83163e63",
   "metadata": {},
   "source": [
    "__Continuous distribution__: one that associates positive probability with continuous outcomes.\n",
    "\n",
    "we \n",
    "represent a continuous distribution with a probability density function (pdf) such that\r\n",
    "the probability of seeing a value in a certain interval equals the integral of the density\r\n",
    "function over the inter:\n",
    "\n",
    "$P[a<X<b]=\\int^b_a f(x)dx$l.\r\n",
    "\n",
    "- _Uniform $f(x)=\\frac{1}{b-a}$\n",
    "- _Normale_: $f(x)=\\frac{1}{\\sqrt{2\\pi\\sigma^2}}e^{-\\frac{1}{2}(\\frac{x-\\mu}{\\sigma}})^2$\n",
    "- _Esponenziale_: $f(x)=\\lambda e^{-\\lambda x}$e_:"
   ]
  },
  {
   "cell_type": "code",
   "execution_count": 4,
   "id": "ae599a1f-22cd-449c-b764-eb0c73b40274",
   "metadata": {},
   "outputs": [],
   "source": [
    "#uniforme\n",
    "def prob_cunif(a,b):\n",
    "    return 1/(b-a)\n",
    "\n",
    "#Gauss:\n",
    "#mu=mean, sigma=variance\n",
    "def prob_gauss(x, mu=0, sigma=1):\n",
    "    sqrt_two_pi = math.sqrt(2 * math.pi)\n",
    "    return (math.exp(-(x-mu) ** 2 / 2 / sigma ** 2) / (sqrt_two_pi * sigma))\n",
    "\n",
    "\n",
    "#lambda\n",
    "def prob_lambda(l, z):\n",
    "    return l*exp(-1*l*x)"
   ]
  },
  {
   "cell_type": "markdown",
   "id": "1e15758e-7b9a-4a8f-b707-8f2740d441cb",
   "metadata": {
    "jp-MarkdownHeadingCollapsed": true
   },
   "source": [
    "## The Central Limit Theorem"
   ]
  },
  {
   "cell_type": "markdown",
   "id": "158041cf-2c5f-4bf3-9707-30736715a2bd",
   "metadata": {},
   "source": [
    "__Central limit theorem:__ a random variable defined as the average of a large number of\n",
    "independent and identically distributed random variables is itself approximately normally distributed."
   ]
  },
  {
   "cell_type": "code",
   "execution_count": null,
   "id": "0e2b2a5d-c520-45a4-905b-83c0d78ff916",
   "metadata": {},
   "outputs": [],
   "source": []
  }
 ],
 "metadata": {
  "kernelspec": {
   "display_name": "Python 3 (ipykernel)",
   "language": "python",
   "name": "python3"
  },
  "language_info": {
   "codemirror_mode": {
    "name": "ipython",
    "version": 3
   },
   "file_extension": ".py",
   "mimetype": "text/x-python",
   "name": "python",
   "nbconvert_exporter": "python",
   "pygments_lexer": "ipython3",
   "version": "3.11.5"
  }
 },
 "nbformat": 4,
 "nbformat_minor": 5
}
