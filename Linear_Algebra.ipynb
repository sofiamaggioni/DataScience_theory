{
 "cells": [
  {
   "cell_type": "markdown",
   "id": "57efd5b1-ffb0-4747-acd2-dbe179d7fefe",
   "metadata": {},
   "source": [
    "# Linear Algebra"
   ]
  },
  {
   "cell_type": "markdown",
   "id": "fc28ec9e-7aad-458c-bae9-8949642e1e2b",
   "metadata": {},
   "source": [
    "## Vectors"
   ]
  },
  {
   "cell_type": "markdown",
   "id": "cbd662e5-88ae-410d-89a7-046e662ef5b1",
   "metadata": {},
   "source": [
    "__Vectors__ are objects that can be added together (to form new vectors) and\n",
    "that can be multiplied by scalars (i.e., numbers), also to form new vectors\n",
    "\n",
    "_computazionalmente_: list"
   ]
  },
  {
   "cell_type": "code",
   "execution_count": 2,
   "id": "aad0e6e3-07f3-4fb1-baa7-4c2878b9ee20",
   "metadata": {},
   "outputs": [],
   "source": [
    "v=[1,2]\n",
    "w=[2,3]"
   ]
  },
  {
   "cell_type": "code",
   "execution_count": null,
   "id": "4b767ba0-f956-4167-b014-f6bf0e5686fb",
   "metadata": {},
   "outputs": [],
   "source": [
    "#addition\n",
    "def vector_add(v, w):\n",
    " \"\"\"adds corresponding elements\"\"\"\n",
    " return [v_i + w_i\n",
    " for v_i, w_i in zip(v, w)]\n",
    "\n",
    "#subraction\n",
    "def vector_subtract(v, w):\n",
    " \"\"\"subtracts corresponding elements\"\"\"\n",
    " return [v_i - w_i\n",
    " for v_i, w_i in zip(v, w)]\n",
    "\n",
    "#sum of elements\n",
    "def vector_sum(vectors):\n",
    "    \"\"\"sums all corresponding elements\"\"\"\n",
    "    result = vectors[0] # start with the first vector\n",
    "    for vector in vectors[1:]: # then loop over the others\n",
    "        result = vector_add(result, vector) # and add them to the result\n",
    "    return result\n",
    "\n",
    "#scalar multiplier\n",
    "def scalar_multiply(c, v):\n",
    "    \"\"\"c is a number, v is a vector\"\"\"\n",
    "    return c * v_i for v_i in v\n",
    "\n",
    "#vector mean\n",
    "def vector_mean(vectors):\n",
    "    \"\"\"compute the vector whose ith element is the mean of the\n",
    "    ith elements of the input vectors\"\"\"\n",
    "    n = len(vectors)\n",
    "    return scalar_multiply(1/n, vector_sum(vectors))\n",
    "\n",
    "#dot product\n",
    "def dot(v, w):\n",
    "    \"\"\"v_1 * w_1 + ... + v_n * w_n\"\"\"\n",
    "    return sum(v_i * w_i for v_i, w_i in zip(v, w))\n",
    "\n",
    "#sum of squares \n",
    "def sum_of_squares(v):\n",
    "    \"\"\"v_1 * v_1 + ... + v_n * v_n\"\"\"\n",
    "    return dot(v, v)\n",
    "\n",
    "#magnitude\n",
    "import math\n",
    "def magnitude(v):\n",
    "    return math.sqrt(sum_of_squares(v))\n",
    "\n",
    "#distance\n",
    "def squared_distance(v, w):\n",
    "    \"\"\"(v_1 - w_1) ** 2 + ... + (v_n - w_n) ** 2\"\"\"\n",
    "    return sum_of_squares(vector_subtract(v, w))\n",
    "    \n",
    "def distance(v, w):\n",
    "    return math.sqrt(squared_distance(v, w))\n"
   ]
  },
  {
   "cell_type": "markdown",
   "id": "f7bc4c3c-7cd0-4ccf-bc59-7107dee7ffc0",
   "metadata": {},
   "source": [
    "## Matrix"
   ]
  },
  {
   "cell_type": "markdown",
   "id": "a993b9eb-1547-46c6-9442-668427b328b9",
   "metadata": {},
   "source": [
    "A __matrix__ two-dimensional or more dimentional collection of numbers\n",
    "\n",
    "_computazionalmente_: list of list"
   ]
  },
  {
   "cell_type": "code",
   "execution_count": null,
   "id": "f24e99bf-d4fe-401a-989d-1ead5320f508",
   "metadata": {},
   "outputs": [],
   "source": [
    "A = [[1, 2, 3],\n",
    "    [4, 5, 6]]\n",
    "B = [[1, 2], \n",
    "    [3, 4],\n",
    "    [5, 6]]"
   ]
  },
  {
   "cell_type": "code",
   "execution_count": null,
   "id": "10ae0f8b-b6a9-4233-94d0-ea0c4d96ed4b",
   "metadata": {},
   "outputs": [],
   "source": [
    "#shape\n",
    "def shape(A):\n",
    "    num_rows = len(A)\n",
    "    num_cols = len(A[0]) if A else 0 # number of elements in first row\n",
    "    return num_rows, num_cols\n",
    "\n",
    "#access rows and columns\n",
    "def get_row(A, i):\n",
    " return A[i] \n",
    "\n",
    "def get_column(A, j):\n",
    "    return [A_i[j] for A_i in A]"
   ]
  }
 ],
 "metadata": {
  "kernelspec": {
   "display_name": "Python 3 (ipykernel)",
   "language": "python",
   "name": "python3"
  },
  "language_info": {
   "codemirror_mode": {
    "name": "ipython",
    "version": 3
   },
   "file_extension": ".py",
   "mimetype": "text/x-python",
   "name": "python",
   "nbconvert_exporter": "python",
   "pygments_lexer": "ipython3",
   "version": "3.11.5"
  }
 },
 "nbformat": 4,
 "nbformat_minor": 5
}
